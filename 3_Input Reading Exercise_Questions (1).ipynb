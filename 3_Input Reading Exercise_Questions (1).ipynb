{
 "cells": [
  {
   "cell_type": "code",
   "execution_count": 6,
   "metadata": {},
   "outputs": [
    {
     "name": "stdout",
     "output_type": "stream",
     "text": [
      "enter the number of hours2\n",
      "2 hours is equal to 120 minutes\n"
     ]
    }
   ],
   "source": [
    "# Write a program to hours to minutes , user should able to give hours as input\n",
    "\n",
    "# your Answer\n",
    "n=int(input(\"enter the number of hours\"))\n",
    "x=n*60\n",
    "print(n,\"hours is equal to\",x,\"minutes\")\n",
    "\n"
   ]
  },
  {
   "cell_type": "code",
   "execution_count": 8,
   "metadata": {},
   "outputs": [
    {
     "name": "stdout",
     "output_type": "stream",
     "text": [
      "enter the number of centimeters2\n",
      "200 centimeters is equal to 2 meters\n"
     ]
    }
   ],
   "source": [
    "# Write a program to convert centimeter to meter , user shoulb be able to give centimeter as input\n",
    "\n",
    "# your Answer\n",
    "n=int(input(\"enter the number of centimeters\"))\n",
    "x=n*100\n",
    "print(x,\"centimeters is equal to\",n,\"meters\")\n",
    "\n",
    "\n"
   ]
  },
  {
   "cell_type": "code",
   "execution_count": 19,
   "metadata": {},
   "outputs": [
    {
     "name": "stdout",
     "output_type": "stream",
     "text": [
      "enter the miles:5\n",
      "the equivalent kilometer for miles is 8.0\n"
     ]
    }
   ],
   "source": [
    "# Write a program to convert miles to Kilometer , user shoulb be able to give miles as input\n",
    "\n",
    "# your Answer\n",
    "\n",
    "n=int(input(\"enter the miles:\"))\n",
    "k=n*1.6\n",
    "print(\"the equivalent kilometer for miles is\",k)\n",
    "\n",
    "\n",
    "\n",
    "\n"
   ]
  },
  {
   "cell_type": "code",
   "execution_count": 21,
   "metadata": {},
   "outputs": [
    {
     "name": "stdout",
     "output_type": "stream",
     "text": [
      "enter the pounds:6\n",
      "6 pounds is equal to 2.7 kilograms\n"
     ]
    }
   ],
   "source": [
    "# Write a program to convert pounds to Kilogram , user shoulb be able to give pounds as input\n",
    "\n",
    "# your Answer\n",
    "p=int(input(\"enter the pounds:\"))\n",
    "k=p*0.45\n",
    "print(p,\"pounds is equal to\",k,\"kilograms\")\n",
    "\n",
    "\n",
    "\n",
    "\n",
    "\n"
   ]
  },
  {
   "cell_type": "code",
   "execution_count": 10,
   "metadata": {},
   "outputs": [
    {
     "name": "stdout",
     "output_type": "stream",
     "text": [
      "enter the price:100\n",
      "enter the time period:5\n",
      "enter the rate of interest:2\n",
      "10.0\n"
     ]
    }
   ],
   "source": [
    "# Write a program to calculate simple interest # all input shoulb be given by the user\n",
    "\n",
    "# your Answer\n",
    "p=int(input(\"enter the price:\"))\n",
    "t=int(input(\"enter the time period:\"))\n",
    "r=int(input(\"enter the rate of interest:\"))\n",
    "si=p*t*r/100\n",
    "print(si)\n",
    "\n",
    "\n",
    "\n",
    "\n",
    "\n"
   ]
  },
  {
   "cell_type": "code",
   "execution_count": 12,
   "metadata": {},
   "outputs": [
    {
     "name": "stdout",
     "output_type": "stream",
     "text": [
      "enter the radius10\n",
      "the area of circle 314.0\n"
     ]
    }
   ],
   "source": [
    "# Write a program to calculate area of circle\n",
    "\n",
    "# your Answer\n",
    "\n",
    "r=int(input(\"enter the radius\"))\n",
    "area=3.14*r*r\n",
    "print(\"the area of circle\",area)\n",
    "\n"
   ]
  },
  {
   "cell_type": "code",
   "execution_count": 13,
   "metadata": {},
   "outputs": [
    {
     "name": "stdout",
     "output_type": "stream",
     "text": [
      "enter the radius5\n",
      "the circumference of the circle 31.400000000000002\n"
     ]
    }
   ],
   "source": [
    "# Write a program to calculate circumference of circle\n",
    "\n",
    "# your Answer\n",
    "\n",
    "r=int(input(\"enter the radius\"))\n",
    "c=2*3.14*r\n",
    "print(\"the circumference of the circle\",c)\n",
    "\n",
    "\n",
    "\n",
    "\n"
   ]
  },
  {
   "cell_type": "code",
   "execution_count": 15,
   "metadata": {},
   "outputs": [
    {
     "name": "stdout",
     "output_type": "stream",
     "text": [
      "enter the side4\n",
      "the perimeter of the square 16\n"
     ]
    }
   ],
   "source": [
    "# Write a program to calculate perimeter of square\n",
    "\n",
    "# your Answer\n",
    "s=int(input(\"enter the side\"))\n",
    "perimeter=4*s\n",
    "print(\"the perimeter of the square\",perimeter)\n",
    "\n",
    "\n",
    "\n",
    "\n"
   ]
  },
  {
   "cell_type": "code",
   "execution_count": 16,
   "metadata": {},
   "outputs": [
    {
     "name": "stdout",
     "output_type": "stream",
     "text": [
      "enter the side 5\n",
      "the area of square 25\n"
     ]
    }
   ],
   "source": [
    "# Write a program to calculate area of square\n",
    "\n",
    "# your Answer\n",
    "s=int(input(\"enter the side\"))\n",
    "area=s*s\n",
    "print(\"the area of square\",area)\n",
    "\n",
    "\n",
    "\n"
   ]
  },
  {
   "cell_type": "code",
   "execution_count": 17,
   "metadata": {},
   "outputs": [
    {
     "name": "stdout",
     "output_type": "stream",
     "text": [
      "enter the base:10\n",
      "enter the height:4\n",
      "the area of triangle 20.0\n"
     ]
    }
   ],
   "source": [
    "# Write a program to area of traingle\n",
    "\n",
    "# your Answer\n",
    "b=int(input(\"enter the base:\"))\n",
    "h=int(input(\"enter the height:\"))\n",
    "area=0.5*b*h\n",
    "print(\"the area of triangle\",area)"
   ]
  },
  {
   "cell_type": "code",
   "execution_count": null,
   "metadata": {},
   "outputs": [],
   "source": []
  }
 ],
 "metadata": {
  "kernelspec": {
   "display_name": "Python 3 (ipykernel)",
   "language": "python",
   "name": "python3"
  },
  "language_info": {
   "codemirror_mode": {
    "name": "ipython",
    "version": 3
   },
   "file_extension": ".py",
   "mimetype": "text/x-python",
   "name": "python",
   "nbconvert_exporter": "python",
   "pygments_lexer": "ipython3",
   "version": "3.11.4"
  }
 },
 "nbformat": 4,
 "nbformat_minor": 2
}
